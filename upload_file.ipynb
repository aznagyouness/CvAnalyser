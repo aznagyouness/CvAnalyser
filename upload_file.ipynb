{
 "cells": [
  {
   "cell_type": "code",
   "execution_count": 1,
   "id": "db9d2b48-7b24-44d2-b4d1-2474ad2230ec",
   "metadata": {},
   "outputs": [
    {
     "name": "stdout",
     "output_type": "stream",
     "text": [
      "Collecting pdf2image\n",
      "  Downloading pdf2image-1.17.0-py3-none-any.whl.metadata (6.2 kB)\n",
      "Requirement already satisfied: pillow in /system/conda/miniconda3/envs/cloudspace/lib/python3.10/site-packages (10.1.0)\n",
      "Collecting pytesseract\n",
      "  Downloading pytesseract-0.3.13-py3-none-any.whl.metadata (11 kB)\n",
      "Requirement already satisfied: packaging>=21.3 in /system/conda/miniconda3/envs/cloudspace/lib/python3.10/site-packages (from pytesseract) (24.2)\n",
      "Downloading pdf2image-1.17.0-py3-none-any.whl (11 kB)\n",
      "Downloading pytesseract-0.3.13-py3-none-any.whl (14 kB)\n",
      "Installing collected packages: pytesseract, pdf2image\n",
      "\u001b[2K   \u001b[90m━━━━━━━━━━━━━━━━━━━━━━━━━━━━━━━━━━━━━━━━\u001b[0m \u001b[32m2/2\u001b[0m [pdf2image]\n",
      "\u001b[1A\u001b[2KSuccessfully installed pdf2image-1.17.0 pytesseract-0.3.13\n"
     ]
    }
   ],
   "source": [
    "!pip install pdf2image pillow pytesseract"
   ]
  },
  {
   "cell_type": "code",
   "execution_count": 9,
   "id": "ef2e275f-8588-4004-aa60-fddee084ee4e",
   "metadata": {},
   "outputs": [],
   "source": [
    "import os\n",
    "import tempfile\n",
    "from pathlib import Path\n",
    "from pdf2image import convert_from_path\n",
    "from PIL import Image\n",
    "import pytesseract\n",
    "import subprocess\n",
    "\n",
    "def convert_doc_to_pdf(input_path: str, output_dir: str):\n",
    "    \"\"\"Convert .doc or .docx to .pdf using LibreOffice (headless).\"\"\"\n",
    "    subprocess.run([\n",
    "        \"libreoffice\",\n",
    "        \"--headless\",\n",
    "        \"--convert-to\", \"pdf\",\n",
    "        \"--outdir\", output_dir,\n",
    "        input_path\n",
    "    ], check=True)\n",
    "\n",
    "def extract_text_from_file(file_path: str) -> str:\n",
    "    ext = Path(file_path).suffix.lower()\n",
    "    \n",
    "    if ext not in [\".pdf\", \".doc\", \".docx\"]:\n",
    "        raise ValueError(\"Unsupported file type\")\n",
    "\n",
    "    # Convert DOC/DOCX to PDF first\n",
    "    if ext in [\".doc\", \".docx\"]:\n",
    "        with tempfile.TemporaryDirectory() as tmpdir:\n",
    "            pdf_path = os.path.join(tmpdir, \"converted.pdf\")\n",
    "            convert_doc_to_pdf(file_path, os.path.dirname(pdf_path))\n",
    "            file_path = pdf_path  # update for next step\n",
    "\n",
    "    # Now file_path is a PDF, convert to images\n",
    "    images = convert_from_path(file_path, dpi=300)\n",
    "\n",
    "    return images\n"
   ]
  },
  {
   "cell_type": "code",
   "execution_count": 6,
   "id": "794e6e98-dbec-475b-9558-158760ed6bbb",
   "metadata": {},
   "outputs": [
    {
     "name": "stdout",
     "output_type": "stream",
     "text": [
      "/teamspace/studios/this_studio\n"
     ]
    }
   ],
   "source": [
    "!pwd"
   ]
  },
  {
   "cell_type": "code",
   "execution_count": null,
   "id": "dd003cd9-54ec-429c-8d8c-b40c381fa362",
   "metadata": {},
   "outputs": [],
   "source": [
    "!sudo apt install libreoffice poppler-utils tesseract-ocr"
   ]
  },
  {
   "cell_type": "code",
   "execution_count": 6,
   "id": "53275c2f-9e4f-4548-a243-64e3f2906d0e",
   "metadata": {},
   "outputs": [
    {
     "name": "stdout",
     "output_type": "stream",
     "text": [
      "convert /teamspace/studios/this_studio/232-modele-cv-francais.docx -> /teamspace/studios/this_studio/cv.pdf/232-modele-cv-francais.pdf using filter : writer_pdf_Export\n"
     ]
    }
   ],
   "source": [
    "convert_doc_to_pdf(\"/teamspace/studios/this_studio/232-modele-cv-francais.docx\",\"/teamspace/studios/this_studio/\")"
   ]
  },
  {
   "cell_type": "code",
   "execution_count": 7,
   "id": "b2213760-0b77-43af-9149-8b3971ea9637",
   "metadata": {},
   "outputs": [],
   "source": [
    "\n",
    "def convert_doc_to_pdf(input_path: str, output_dir: str):\n",
    "    \"\"\"Convert .doc or .docx to .pdf using LibreOffice (headless).\"\"\"\n",
    "    subprocess.run([\n",
    "        \"libreoffice\",\n",
    "        \"--headless\",\n",
    "        \"--convert-to\", \"pdf\",\n",
    "        \"--outdir\", output_dir,\n",
    "        input_path\n",
    "    ], check=True)"
   ]
  },
  {
   "cell_type": "code",
   "execution_count": 8,
   "id": "eff04e67-3f15-4edb-b6fb-8bae2bba2f2e",
   "metadata": {},
   "outputs": [
    {
     "name": "stdout",
     "output_type": "stream",
     "text": [
      "convert /teamspace/studios/this_studio/232-modele-cv-francais.docx -> /teamspace/studios/this_studio/232-modele-cv-francais.pdf using filter : writer_pdf_Export\n"
     ]
    }
   ],
   "source": [
    "input_path = \"/teamspace/studios/this_studio/232-modele-cv-francais.docx\"\n",
    "output_path = \"/teamspace/studios/this_studio/\"\n",
    "convert_doc_to_pdf(input_path, output_path)"
   ]
  },
  {
   "cell_type": "code",
   "execution_count": 10,
   "id": "f843c6e8-86e2-4603-a168-835baa390192",
   "metadata": {},
   "outputs": [],
   "source": [
    "def convert_doc_to_pdf(input_path: str, output_path: str):\n",
    "    \"\"\"Convert .doc or .docx to .pdf using LibreOffice (headless).\"\"\"\n",
    "    subprocess.run([\n",
    "        \"libreoffice\",\n",
    "        \"--headless\",\n",
    "        \"--convert-to\", \"pdf\",\n",
    "        \"--outdir\", output_path, # consider that cv2.pdf is a directory not pdf file the pdf fiel will be created inside the folder cv2.pdf\n",
    "        input_path\n",
    "    ], check=True)"
   ]
  },
  {
   "cell_type": "code",
   "execution_count": 12,
   "id": "de830066-2bf4-48bd-a5ad-2b6a38b73d24",
   "metadata": {},
   "outputs": [
    {
     "name": "stdout",
     "output_type": "stream",
     "text": [
      "convert /teamspace/studios/this_studio/232-modele-cv-francais.docx -> /teamspace/studios/this_studio/cv2.pdf/232-modele-cv-francais.pdf using filter : writer_pdf_Export\n"
     ]
    }
   ],
   "source": [
    "input_path = \"/teamspace/studios/this_studio/232-modele-cv-francais.docx\"\n",
    "output_path = \"/teamspace/studios/this_studio/cv2.pdf\"\n",
    "convert_doc_to_pdf(input_path, output_path)"
   ]
  },
  {
   "cell_type": "code",
   "execution_count": null,
   "id": "e88518a2-2239-4973-99eb-897bd709a850",
   "metadata": {},
   "outputs": [],
   "source": []
  }
 ],
 "metadata": {
  "kernelspec": {
   "display_name": "Python 3",
   "language": "python",
   "name": "python3"
  },
  "language_info": {
   "codemirror_mode": {
    "name": "ipython",
    "version": 3
   },
   "file_extension": ".py",
   "mimetype": "text/x-python",
   "name": "python",
   "nbconvert_exporter": "python",
   "pygments_lexer": "ipython3",
   "version": "3.10.10"
  }
 },
 "nbformat": 4,
 "nbformat_minor": 5
}
